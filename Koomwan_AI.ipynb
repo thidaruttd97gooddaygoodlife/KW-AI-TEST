{
 "cells": [
  {
   "cell_type": "code",
   "execution_count": 5,
   "metadata": {},
   "outputs": [],
   "source": [
    "#Step 1: Install Required Libraries\n",
    "#pip install pandas numpy scikit-learn ipywidgets tiktoken sentencepiece\n",
    "#,(model)pip install xgboost tensorflow keras pip install transformers pythainlp torch \n",
    "\n",
    "#Step 2: Import Libraries\n",
    "# Importing libraries\n",
    "import pandas as pd\n",
    "import numpy as np\n",
    "import matplotlib.pyplot as plt\n",
    "import seaborn as sns\n",
    "import tensorflow as tf\n",
    "\n",
    "from sklearn.model_selection import train_test_split\n",
    "from sklearn.metrics import accuracy_score, classification_report\n",
    "from sklearn.metrics import accuracy_score, confusion_matrix, classification_report\n",
    "from sklearn.preprocessing import StandardScaler\n",
    "from sklearn.impute import SimpleImputer\n",
    "from sklearn.model_selection import GridSearchCV\n",
    "\n",
    "#PredictionRiskModels \n",
    "from sklearn.ensemble import RandomForestClassifier\n",
    "from xgboost import XGBClassifier\n",
    "from tensorflow.keras.models import Sequential\n",
    "from tensorflow.keras.layers import Input,Dense, Dropout\n",
    "from tensorflow.keras.optimizers import Adam\n"
   ]
  },
  {
   "cell_type": "code",
   "execution_count": 26,
   "metadata": {},
   "outputs": [],
   "source": [
    "#Step 3: Load dataset (หามาโลด ดูตารางค่าที่รับให้ตรง)\n",
    "#age, weight, height, blood_sugar, a1c, systolic_bp, diastolic_bp, mood, gender, and target\n",
    "\n",
    "df = pd.read_csv('diabetes_prediction_dataset.csv')  "
   ]
  },
  {
   "cell_type": "code",
   "execution_count": 27,
   "metadata": {},
   "outputs": [
    {
     "name": "stdout",
     "output_type": "stream",
     "text": [
      "   gender   age  hypertension  heart_disease smoking_history    bmi  \\\n",
      "0  Female  80.0             0              1           never  25.19   \n",
      "1  Female  54.0             0              0         No Info  27.32   \n",
      "2    Male  28.0             0              0           never  27.32   \n",
      "3  Female  36.0             0              0         current  23.45   \n",
      "4    Male  76.0             1              1         current  20.14   \n",
      "\n",
      "   HbA1c_level  blood_glucose_level  diabetes  \n",
      "0          6.6                  140         0  \n",
      "1          6.6                   80         0  \n",
      "2          5.7                  158         0  \n",
      "3          5.0                  155         0  \n",
      "4          4.8                  155         0  \n"
     ]
    }
   ],
   "source": [
    "#Step 4: Explore the Data (To know structure)\n",
    "# Display the first few rows of the dataset\n",
    "print(df.head())"
   ]
  },
  {
   "cell_type": "code",
   "execution_count": 28,
   "metadata": {},
   "outputs": [
    {
     "name": "stdout",
     "output_type": "stream",
     "text": [
      "                 age  hypertension  heart_disease            bmi  \\\n",
      "count  100000.000000  100000.00000  100000.000000  100000.000000   \n",
      "mean       41.885856       0.07485       0.039420      27.320767   \n",
      "std        22.516840       0.26315       0.194593       6.636783   \n",
      "min         0.080000       0.00000       0.000000      10.010000   \n",
      "25%        24.000000       0.00000       0.000000      23.630000   \n",
      "50%        43.000000       0.00000       0.000000      27.320000   \n",
      "75%        60.000000       0.00000       0.000000      29.580000   \n",
      "max        80.000000       1.00000       1.000000      95.690000   \n",
      "\n",
      "         HbA1c_level  blood_glucose_level       diabetes  \n",
      "count  100000.000000        100000.000000  100000.000000  \n",
      "mean        5.527507           138.058060       0.085000  \n",
      "std         1.070672            40.708136       0.278883  \n",
      "min         3.500000            80.000000       0.000000  \n",
      "25%         4.800000           100.000000       0.000000  \n",
      "50%         5.800000           140.000000       0.000000  \n",
      "75%         6.200000           159.000000       0.000000  \n",
      "max         9.000000           300.000000       1.000000  \n"
     ]
    }
   ],
   "source": [
    "#Step 4: Explore the Data (To know structure)\n",
    "# Get summary statistics\n",
    "print(df.describe())"
   ]
  },
  {
   "cell_type": "code",
   "execution_count": 29,
   "metadata": {},
   "outputs": [
    {
     "name": "stdout",
     "output_type": "stream",
     "text": [
      "gender                 0\n",
      "age                    0\n",
      "hypertension           0\n",
      "heart_disease          0\n",
      "smoking_history        0\n",
      "bmi                    0\n",
      "HbA1c_level            0\n",
      "blood_glucose_level    0\n",
      "diabetes               0\n",
      "dtype: int64\n"
     ]
    }
   ],
   "source": [
    "#Step 4: Explore the Data (To know structure)\n",
    "# Check for missing values\n",
    "print(df.isnull().sum())"
   ]
  },
  {
   "cell_type": "code",
   "execution_count": 30,
   "metadata": {},
   "outputs": [],
   "source": [
    "#Step 5: Data Preprocessing\n",
    "#(1)Delete smoking_history Column (Don't use)\n",
    "df = df.drop(columns=['smoking_history'])"
   ]
  },
  {
   "cell_type": "code",
   "execution_count": 31,
   "metadata": {},
   "outputs": [],
   "source": [
    "#Step 5: Data Preprocessing\n",
    "#(2)Create Systolic & Diastolic Column (We need )\n",
    "def generate_bp(row):\n",
    "    age = row['age']\n",
    "    has_hypertension = row['hypertension']\n",
    "    has_heart_disease = row['heart_disease']\n",
    "\n",
    "    # ค่าปกติสำหรับอายุแต่ละช่วง\n",
    "    if age < 30:\n",
    "        systolic = np.random.randint(100, 120)\n",
    "        diastolic = np.random.randint(60, 80)\n",
    "    elif 30 <= age < 50:\n",
    "        systolic = np.random.randint(110, 130)\n",
    "        diastolic = np.random.randint(70, 85)\n",
    "    else:\n",
    "        systolic = np.random.randint(120, 140)\n",
    "        diastolic = np.random.randint(75, 90)\n",
    "\n",
    "    # ถ้ามีความดันสูง เพิ่มค่าความดัน\n",
    "    if has_hypertension == 1:\n",
    "        systolic += np.random.randint(10, 20)\n",
    "        diastolic += np.random.randint(5, 10)\n",
    "\n",
    "    # ถ้ามีโรคหัวใจ ค่าความดันอาจผิดปกติได้\n",
    "    if has_heart_disease == 1:\n",
    "        systolic += np.random.randint(5, 15)\n",
    "        diastolic += np.random.randint(3, 8)\n",
    "\n",
    "    return pd.Series([systolic, diastolic])\n",
    "\n",
    "# ใช้ฟังก์ชันเติมค่าความดัน\n",
    "df[['systolic_bp', 'diastolic_bp']] = df.apply(generate_bp, axis=1)\n"
   ]
  },
  {
   "cell_type": "code",
   "execution_count": 32,
   "metadata": {},
   "outputs": [],
   "source": [
    "#Step 5: Data Preprocessing\n",
    "#(3)Separate Between Numeric and Categorical Column \n",
    "\n",
    "numeric_cols = ['age', 'hypertension','heart_disease', 'bmi', 'HbA1c_level', 'blood_glucose_level', 'diabetes', 'systolic_bp', 'diastolic_bp']\n",
    "categorical_cols = ['gender',]\n",
    "\n",
    "\n",
    "#(4)\n",
    "df['gender'] = df['gender'].map({'Male': 0, 'Female': 1})"
   ]
  },
  {
   "cell_type": "code",
   "execution_count": 33,
   "metadata": {},
   "outputs": [
    {
     "name": "stdout",
     "output_type": "stream",
     "text": [
      "   gender   age  hypertension  heart_disease    bmi  HbA1c_level  \\\n",
      "0     1.0  80.0             0              1  25.19          6.6   \n",
      "1     1.0  54.0             0              0  27.32          6.6   \n",
      "2     0.0  28.0             0              0  27.32          5.7   \n",
      "3     1.0  36.0             0              0  23.45          5.0   \n",
      "4     0.0  76.0             1              1  20.14          4.8   \n",
      "\n",
      "   blood_glucose_level  diabetes  systolic_bp  diastolic_bp  \n",
      "0                  140         0          139            84  \n",
      "1                   80         0          136            75  \n",
      "2                  158         0          117            60  \n",
      "3                  155         0          115            78  \n",
      "4                  155         0          163            88  \n"
     ]
    }
   ],
   "source": [
    "#Step 5: Data Preprocessing\n",
    "#(5)To Save on New File After Preprocessing\n",
    "df.to_csv('cleaned_diabetes_prediction_dataset.csv', index=False)\n",
    "\n",
    "#(6)Check After Preprocessing \n",
    "print(df.head())"
   ]
  },
  {
   "cell_type": "code",
   "execution_count": 34,
   "metadata": {},
   "outputs": [],
   "source": [
    "#Step 5: Data Preprocessing\n",
    "#(7)Features (X) และ diabetes (y)\n",
    "# Split data into training and testing sets (80-20 split)\n",
    "X = df.drop(columns=['diabetes'])\n",
    "y = df['diabetes']\n",
    "\n",
    "#80_20\n",
    "X_train, X_test, y_train, y_test = train_test_split(X, y, test_size=0.2, random_state=42, stratify=y)"
   ]
  },
  {
   "cell_type": "code",
   "execution_count": 35,
   "metadata": {},
   "outputs": [],
   "source": [
    "#Step 5: Data Preprocessing\n",
    "scaler = StandardScaler()\n",
    "\n",
    "# Normalize For Same Scale\n",
    "X_train_scaled = scaler.fit_transform(X_train)\n",
    "X_test_scaled = scaler.transform(X_test)"
   ]
  },
  {
   "cell_type": "code",
   "execution_count": null,
   "metadata": {},
   "outputs": [
    {
     "name": "stdout",
     "output_type": "stream",
     "text": [
      "✅ Random Forest - Accuracy: 97.21%, F1-score: 0.97\n"
     ]
    },
    {
     "data": {
      "image/png": "[encoded data removed]",
      "text/plain": [
       "<Figure size 600x500 with 2 Axes>"
      ]
     },
     "metadata": {},
     "output_type": "display_data"
    },
    {
     "name": "stdout",
     "output_type": "stream",
     "text": [
      "\n",
      "Classification Report:\n",
      "              precision    recall  f1-score   support\n",
      "\n",
      "           0       0.97      1.00      0.98     18300\n",
      "           1       0.99      0.68      0.81      1700\n",
      "\n",
      "    accuracy                           0.97     20000\n",
      "   macro avg       0.98      0.84      0.90     20000\n",
      "weighted avg       0.97      0.97      0.97     20000\n",
      "\n"
     ]
    }
   ],
   "source": [
    "#Step 6: Model Training\n",
    "#Random Forest Model\n",
    "\n",
    "rf_model = RandomForestClassifier(\n",
    "    n_estimators=300,       # จำนวนต้นไม้ในป่า \n",
    "    max_depth=None,         # ความลึกของต้นไม้ \n",
    "    min_samples_split=10,   # จำนวนขั้นต่ำของตัวอย่างที่ต้องมีเพื่อแบ่ง node ใหม่ \n",
    "    random_state=42,        # ตั้งค่า random เพื่อให้ผลลัพธ์คงที่\n",
    "    n_jobs=-1               # ใช้ทุก CPU Core เพื่อให้เทรนเร็วขึ้น\n",
    ")\n",
    "\n",
    "# Train\n",
    "rf_model.fit(X_train_scaled, y_train)\n",
    "\n",
    "# Test\n",
    "rf_pred = rf_model.predict(X_test_scaled)\n",
    "\n",
    "# Find Accuracy\n",
    "rf_acc = accuracy_score(y_test, rf_pred)\n",
    "rf_f1 = classification_report(y_test, rf_pred, output_dict=True)['weighted avg']['f1-score']\n",
    "\n",
    "\n",
    "#Step 7: Show Result\n",
    "#Random Forest Model\n",
    "# Show Result\n",
    "print(f\"✅ Random Forest - Accuracy: {rf_acc*100:.2f}%, F1-score: {rf_f1:.2f}\")\n",
    "\n",
    "# Show Confusion Matrix\n",
    "plt.figure(figsize=(6,5))\n",
    "sns.heatmap(confusion_matrix(y_test, rf_pred), annot=True, fmt='d', cmap='Blues')\n",
    "plt.xlabel(\"Predicted\")\n",
    "plt.ylabel(\"Actual\")\n",
    "plt.title(\"Confusion Matrix - Random Forest\")\n",
    "plt.show()\n",
    "\n",
    "# Show Classification Report\n",
    "print(\"\\nClassification Report:\")\n",
    "print(classification_report(y_test, rf_pred))\n"
   ]
  },
  {
   "cell_type": "code",
   "execution_count": null,
   "metadata": {},
   "outputs": [
    {
     "name": "stdout",
     "output_type": "stream",
     "text": [
      "✅ XGBoost - Accuracy: 97.19%, F1-score: 0.97\n"
     ]
    },
    {
     "data": {
      "image/png": "[encoded data removed]",
      "text/plain": [
       "<Figure size 600x500 with 2 Axes>"
      ]
     },
     "metadata": {},
     "output_type": "display_data"
    },
    {
     "name": "stdout",
     "output_type": "stream",
     "text": [
      "\n",
      "Classification Report:\n",
      "              precision    recall  f1-score   support\n",
      "\n",
      "           0       0.97      1.00      0.98     18300\n",
      "           1       0.98      0.68      0.81      1700\n",
      "\n",
      "    accuracy                           0.97     20000\n",
      "   macro avg       0.98      0.84      0.89     20000\n",
      "weighted avg       0.97      0.97      0.97     20000\n",
      "\n"
     ]
    }
   ],
   "source": [
    "#XGBoost Model\n",
    "xgb_model = XGBClassifier(\n",
    "    n_estimators=300,   # จำนวนต้นไม้ในป่า \n",
    "    learning_rate=0.01,  # อัตราการเรียนรู้\n",
    "    max_depth=9,        # ความลึกของต้นไม้ \n",
    "    eval_metric='logloss',\n",
    "    random_state=42\n",
    ")\n",
    "\n",
    "# Train\n",
    "xgb_model.fit(X_train_scaled, y_train)\n",
    "\n",
    "# Predict\n",
    "xgb_pred = xgb_model.predict(X_test_scaled)\n",
    "\n",
    "# Find Accuracy\n",
    "xgb_acc = accuracy_score(y_test, xgb_pred)\n",
    "xgb_f1 = classification_report(y_test, xgb_pred, output_dict=True)['weighted avg']['f1-score']\n",
    "\n",
    "\n",
    "#Step 7: Show Result\n",
    "# Show Accuracy\n",
    "print(f\"✅ XGBoost - Accuracy: {xgb_acc*100:.2f}%, F1-score: {xgb_f1:.2f}\")\n",
    "\n",
    "# Show Confusion Matrix\n",
    "plt.figure(figsize=(6,5))\n",
    "sns.heatmap(confusion_matrix(y_test, xgb_pred), annot=True, fmt='d', cmap='Blues')\n",
    "plt.xlabel(\"Predicted\")\n",
    "plt.ylabel(\"Actual\")\n",
    "plt.title(\"Confusion Matrix - XGBoost\")\n",
    "plt.show()\n",
    "\n",
    "# Show Classification Report\n",
    "print(\"\\nClassification Report:\")\n",
    "print(classification_report(y_test, xgb_pred))"
   ]
  },
  {
   "cell_type": "code",
   "execution_count": 43,
   "metadata": {},
   "outputs": [
    {
     "name": "stdout",
     "output_type": "stream",
     "text": [
      "Random Forest Train Accuracy: 97.89%\n",
      "Random Forest Test Accuracy: 97.21%\n",
      "XGBoost Train Log Loss: 0.0853\n",
      "XGBoost Test Log Loss: 0.0877\n"
     ]
    },
    {
     "data": {
      "image/png": "[encoded data removed]",
      "text/plain": [
       "<Figure size 1000x600 with 1 Axes>"
      ]
     },
     "metadata": {},
     "output_type": "display_data"
    }
   ],
   "source": [
    "from sklearn.metrics import log_loss\n",
    "\n",
    "# 1. Random Forest (ใช้ accuracy เพื่อเปรียบเทียบ)\n",
    "rf_train_pred = rf_model.predict(X_train_scaled)\n",
    "rf_test_pred = rf_model.predict(X_test_scaled)\n",
    "\n",
    "rf_train_acc = accuracy_score(y_train, rf_train_pred)\n",
    "rf_test_acc = accuracy_score(y_test, rf_test_pred)\n",
    "\n",
    "print(f\"Random Forest Train Accuracy: {rf_train_acc*100:.2f}%\")\n",
    "print(f\"Random Forest Test Accuracy: {rf_test_acc*100:.2f}%\")\n",
    "\n",
    "# 2. XGBoost (คำนวณ Log Loss)\n",
    "xgb_train_pred_prob = xgb_model.predict_proba(X_train_scaled)[:, 1]  # คำนวณ probability\n",
    "xgb_test_pred_prob = xgb_model.predict_proba(X_test_scaled)[:, 1]\n",
    "\n",
    "xgb_train_loss = log_loss(y_train, xgb_train_pred_prob)\n",
    "xgb_test_loss = log_loss(y_test, xgb_test_pred_prob)\n",
    "\n",
    "print(f\"XGBoost Train Log Loss: {xgb_train_loss:.4f}\")\n",
    "print(f\"XGBoost Test Log Loss: {xgb_test_loss:.4f}\")\n",
    "\n",
    "\n",
    "import matplotlib.pyplot as plt\n",
    "\n",
    "# Train and Test Accuracy for Random Forest\n",
    "rf_train_acc = accuracy_score(y_train, rf_model.predict(X_train_scaled))\n",
    "rf_test_acc = accuracy_score(y_test, rf_model.predict(X_test_scaled))\n",
    "\n",
    "# Train and Test Log Loss for XGBoost\n",
    "xgb_train_loss = log_loss(y_train, xgb_model.predict_proba(X_train_scaled)[:, 1])\n",
    "xgb_test_loss = log_loss(y_test, xgb_model.predict_proba(X_test_scaled)[:, 1])\n",
    "\n",
    "# Plotting the results\n",
    "models = ['Random Forest', 'XGBoost']\n",
    "train_scores = [rf_train_acc, 1 - xgb_train_loss]  # 1 - Log Loss is a rough proxy for accuracy\n",
    "test_scores = [rf_test_acc, 1 - xgb_test_loss]\n",
    "\n",
    "plt.figure(figsize=(10, 6))\n",
    "bar_width = 0.3\n",
    "index = np.arange(len(models))\n",
    "\n",
    "# Plotting Train Scores\n",
    "plt.bar(index, train_scores, bar_width, label='Train Accuracy/Log Loss (1-Loss)', color='b')\n",
    "\n",
    "# Plotting Test Scores\n",
    "plt.bar(index + bar_width, test_scores, bar_width, label='Test Accuracy/Log Loss (1-Loss)', color='r')\n",
    "\n",
    "plt.xlabel('Models')\n",
    "plt.ylabel('Score')\n",
    "plt.title('Train vs Test Performance Comparison')\n",
    "plt.xticks(index + bar_width / 2, models)\n",
    "plt.legend()\n",
    "\n",
    "plt.show()\n"
   ]
  },
  {
   "cell_type": "code",
   "execution_count": 44,
   "metadata": {},
   "outputs": [
    {
     "data": {
      "image/png": "[encoded data removed]",
      "text/plain": [
       "<Figure size 1000x600 with 1 Axes>"
      ]
     },
     "metadata": {},
     "output_type": "display_data"
    }
   ],
   "source": [
    "import matplotlib.pyplot as plt\n",
    "\n",
    "# Data\n",
    "models = ['Random Forest', 'XGBoost']\n",
    "train_scores = [rf_acc, 1 - xgb_train_loss]  # 1 - Log Loss as rough accuracy\n",
    "test_scores = [rf_test_acc, 1 - xgb_test_loss]\n",
    "\n",
    "# Plotting\n",
    "plt.figure(figsize=(10, 6))\n",
    "bar_width = 0.3\n",
    "index = np.arange(len(models))\n",
    "\n",
    "plt.bar(index, train_scores, bar_width, label='Train Accuracy/Log Loss (1-Loss)', color='b')\n",
    "plt.bar(index + bar_width, test_scores, bar_width, label='Test Accuracy/Log Loss (1-Loss)', color='r')\n",
    "\n",
    "plt.xlabel('Models')\n",
    "plt.ylabel('Score')\n",
    "plt.title('Train vs Test Performance Comparison')\n",
    "plt.xticks(index + bar_width / 2, models)\n",
    "plt.legend()\n",
    "\n",
    "plt.show()\n"
   ]
  },
  {
   "cell_type": "code",
   "execution_count": null,
   "metadata": {},
   "outputs": [
    {
     "name": "stdout",
     "output_type": "stream",
     "text": [
      "Voting Classifier - Accuracy: 97.20%, F1-score: 0.97\n"
     ]
    }
   ],
   "source": [
    "from sklearn.ensemble import VotingClassifier\n",
    "\n",
    "# Combine Random Forest and XGBoost into a voting classifier (จุดแข็งของทั้ง 2)\n",
    "voting_clf = VotingClassifier(estimators=[\n",
    "    ('rf', rf_model), \n",
    "    ('xgb', xgb_model)], voting='soft')\n",
    "\n",
    "# Train the voting classifier\n",
    "voting_clf.fit(X_train_scaled, y_train)\n",
    "\n",
    "# Evaluate the performance of the voting classifier\n",
    "voting_pred = voting_clf.predict(X_test_scaled)\n",
    "voting_acc = accuracy_score(y_test, voting_pred)\n",
    "voting_f1 = classification_report(y_test, voting_pred, output_dict=True)['weighted avg']['f1-score']\n",
    "\n",
    "print(f\"Voting Classifier - Accuracy: {voting_acc*100:.2f}%, F1-score: {voting_f1:.2f}\")\n"
   ]
  },
  {
   "cell_type": "code",
   "execution_count": null,
   "metadata": {},
   "outputs": [
    {
     "name": "stdout",
     "output_type": "stream",
     "text": [
      "User 1:\n",
      "Health Score: 7/10\n",
      "Diabetes Risk: ปานกลาง\n",
      "Health Status: ระดับ A1C ค่อนข้างดี\n",
      "Mood Advice: สุขภาพจิตดี ควรออกกำลังกายเพื่อสุขภาพที่ดีขึ้น\n",
      "Exercise Recommendation: ออกกำลังกาย 30 นาทีต่อวัน เช่น เดินเร็ว หรือ วิ่ง\n",
      "Food Recommendation: ทานอาหารที่มีไฟเบอร์สูง เช่น ผักใบเขียว, ข้าวกล้อง, ปลาแซลมอน\n",
      "Article Recommendation: บทความเกี่ยวกับการควบคุมระดับน้ำตาลในเลือด\n",
      "Motivational Advice: คุณทำได้! ทุกการเปลี่ยนแปลงเล็กๆ นำไปสู่ผลลัพธ์ที่ดีขึ้น\n",
      "\n",
      "========================================\n",
      "\n",
      "User 2:\n",
      "Health Score: 5/10\n",
      "Diabetes Risk: ปานกลาง\n",
      "Health Status: ระดับ A1C ค่อนข้างดีน้ำหนักเกินมาตรฐาน\n",
      "Mood Advice: อารมณ์ไม่ดี ควรพักผ่อนและดูแลจิตใจ\n",
      "Exercise Recommendation: ออกกำลังกาย 30 นาทีต่อวัน เช่น เดินเร็ว หรือ วิ่ง\n",
      "Food Recommendation: ทานอาหารที่มีไฟเบอร์สูง เช่น ผักใบเขียว, ข้าวกล้อง, ปลาแซลมอน\n",
      "Article Recommendation: บทความเกี่ยวกับการควบคุมระดับน้ำตาลในเลือด\n",
      "Motivational Advice: คุณทำได้! ทุกการเปลี่ยนแปลงเล็กๆ นำไปสู่ผลลัพธ์ที่ดีขึ้น\n",
      "\n",
      "========================================\n",
      "\n",
      "User 3:\n",
      "Health Score: 7/10\n",
      "Diabetes Risk: ต่ำมาก\n",
      "Health Status: ระดับ A1C ค่อนข้างดีน้ำหนักเกินมาตรฐาน\n",
      "Mood Advice: สุขภาพจิตดี ควรออกกำลังกายเพื่อสุขภาพที่ดีขึ้น\n",
      "Exercise Recommendation: ออกกำลังกาย 30 นาทีต่อวัน เช่น เดินเร็ว หรือ วิ่ง\n",
      "Food Recommendation: ทานอาหารที่มีไฟเบอร์สูง เช่น ผักใบเขียว, ข้าวกล้อง, ปลาแซลมอน\n",
      "Article Recommendation: บทความเกี่ยวกับการควบคุมระดับน้ำตาลในเลือด\n",
      "Motivational Advice: คุณทำได้! ทุกการเปลี่ยนแปลงเล็กๆ นำไปสู่ผลลัพธ์ที่ดีขึ้น\n",
      "\n",
      "========================================\n",
      "\n",
      "User 4:\n",
      "Health Score: 10/10\n",
      "Diabetes Risk: ต่ำมาก\n",
      "Health Status: \n",
      "Mood Advice: สุขภาพจิตดี ควรออกกำลังกายเพื่อสุขภาพที่ดีขึ้น\n",
      "Exercise Recommendation: ออกกำลังกาย 30 นาทีต่อวัน เช่น เดินเร็ว หรือ วิ่ง\n",
      "Food Recommendation: ทานอาหารที่มีไฟเบอร์สูง เช่น ผักใบเขียว, ข้าวกล้อง, ปลาแซลมอน\n",
      "Article Recommendation: บทความเกี่ยวกับการควบคุมระดับน้ำตาลในเลือด\n",
      "Motivational Advice: คุณทำได้! ทุกการเปลี่ยนแปลงเล็กๆ นำไปสู่ผลลัพธ์ที่ดีขึ้น\n",
      "\n",
      "========================================\n",
      "\n",
      "User 5:\n",
      "Health Score: 0/10\n",
      "Diabetes Risk: สูง\n",
      "Health Status: ระดับ A1C ไม่ดี ต้องควบคุมความดันโลหิตสูง ควรควบคุมน้ำหนักเกินมาตรฐาน\n",
      "Mood Advice: อารมณ์ไม่ดี ควรพักผ่อนและดูแลจิตใจ\n",
      "Exercise Recommendation: ออกกำลังกาย 30 นาทีต่อวัน เช่น เดินเร็ว หรือ วิ่ง\n",
      "Food Recommendation: ทานอาหารที่มีไฟเบอร์สูง เช่น ผักใบเขียว, ข้าวกล้อง, ปลาแซลมอน\n",
      "Article Recommendation: บทความเกี่ยวกับการควบคุมระดับน้ำตาลในเลือด\n",
      "Motivational Advice: คุณทำได้! ทุกการเปลี่ยนแปลงเล็กๆ นำไปสู่ผลลัพธ์ที่ดีขึ้น\n",
      "\n",
      "========================================\n",
      "\n"
     ]
    }
   ],
   "source": [
    "#  ตัวอย่างข้อมูล Input ของผู้ใช้ 5 คน\n",
    "user_data = [\n",
    "    {'gender': 'Male', 'weight': 70, 'height': 175, 'blood_sugar': 150, 'A1C': 6.0, 'systolic_bp': 130, 'diastolic_bp': 85, 'mood': 2},\n",
    "    {'gender': 'Female', 'weight': 65, 'height': 160, 'blood_sugar': 180, 'A1C': 6.5, 'systolic_bp': 140, 'diastolic_bp': 90, 'mood': 6},\n",
    "    {'gender': 'Male', 'weight': 85, 'height': 180, 'blood_sugar': 120, 'A1C': 5.8, 'systolic_bp': 125, 'diastolic_bp': 80, 'mood': 3},\n",
    "    {'gender': 'Female', 'weight': 50, 'height': 155, 'blood_sugar': 100, 'A1C': 5.4, 'systolic_bp': 115, 'diastolic_bp': 75, 'mood': 1},\n",
    "    {'gender': 'Male', 'weight': 90, 'height': 170, 'blood_sugar': 200, 'A1C': 7.5, 'systolic_bp': 150, 'diastolic_bp': 95, 'mood': 5}\n",
    "]\n",
    "\n",
    "# ฟังก์ชันในการคำนวณคะแนนสุขภาพและความเสี่ยงเบาหวาน\n",
    "def calculate_health_score(user):\n",
    "    # คำนวณคะแนนสุขภาพจากข้อมูลต่างๆ\n",
    "    health_score = 10\n",
    "    diabetes_risk = \"ต่ำมาก\"\n",
    "    health_status = \"\"\n",
    "    \n",
    "    # ความเสี่ยงจากระดับน้ำตาลในเลือด\n",
    "    if user['blood_sugar'] > 180:\n",
    "        health_score -= 3\n",
    "        diabetes_risk = \"สูง\"\n",
    "    elif user['blood_sugar'] > 120:\n",
    "        health_score -= 2\n",
    "        diabetes_risk = \"ปานกลาง\"\n",
    "    \n",
    "    # ค่าน้ำตาลเฉลี่ยสะสม (A1C)\n",
    "    if user['A1C'] > 6.5:\n",
    "        health_score -= 3\n",
    "        health_status += \"ระดับ A1C ไม่ดี ต้องควบคุม\"\n",
    "    elif user['A1C'] > 5.7:\n",
    "        health_score -= 1\n",
    "        health_status += \"ระดับ A1C ค่อนข้างดี\"\n",
    "    \n",
    "    # ค่าความดันโลหิต\n",
    "    if user['systolic_bp'] > 140 or user['diastolic_bp'] > 90:\n",
    "        health_score -= 2\n",
    "        health_status += \"ความดันโลหิตสูง ควรควบคุม\"\n",
    "\n",
    "    # ค่า BMI (น้ำหนัก/ส่วนสูง)\n",
    "    bmi = user['weight'] / (user['height'] / 100) ** 2\n",
    "    if bmi < 18.5:\n",
    "        health_score -= 1\n",
    "        health_status += \"น้ำหนักต่ำกว่ามาตรฐาน\"\n",
    "    elif bmi > 24.9:\n",
    "        health_score -= 2\n",
    "        health_status += \"น้ำหนักเกินมาตรฐาน\"\n",
    "\n",
    "    # คำแนะนำตามอารมณ์\n",
    "    mood_advice = \"\"\n",
    "    if user['mood'] in [5, 6, 7]:  # อารมณ์เศร้า, ป่วย, หงุดหงิด\n",
    "        mood_advice = \"อารมณ์ไม่ดี ควรพักผ่อนและดูแลจิตใจ\"\n",
    "    elif user['mood'] in [1, 2, 3]:  # อารมณ์ดี\n",
    "        mood_advice = \"สุขภาพจิตดี ควรออกกำลังกายเพื่อสุขภาพที่ดีขึ้น\"\n",
    "\n",
    "    # Return Health Recommendations\n",
    "    return health_score, diabetes_risk, health_status, mood_advice\n",
    "\n",
    "# ฟังก์ชันเพื่อคำแนะนำในการดูแลสุขภาพ\n",
    "def health_advice(user):\n",
    "    # คำแนะนำการออกกำลังกาย\n",
    "    exercise = \"ออกกำลังกาย 30 นาทีต่อวัน เช่น เดินเร็ว หรือ วิ่ง\"\n",
    "    \n",
    "    # คำแนะนำอาหาร\n",
    "    food = \"ทานอาหารที่มีไฟเบอร์สูง เช่น ผักใบเขียว, ข้าวกล้อง, ปลาแซลมอน\"\n",
    "    \n",
    "    # บทความที่แนะนำ\n",
    "    article = \"บทความเกี่ยวกับการควบคุมระดับน้ำตาลในเลือด\"\n",
    "    \n",
    "    # คำพูดสร้างแรงบันดาลใจ\n",
    "    motivation = \"คุณทำได้! ทุกการเปลี่ยนแปลงเล็กๆ นำไปสู่ผลลัพธ์ที่ดีขึ้น\"\n",
    "    \n",
    "    return exercise, food, article, motivation\n",
    "\n",
    "# Step 2: คำนวณผลลัพธ์จากข้อมูล 5 คน\n",
    "for i, user in enumerate(user_data, 1):\n",
    "    print(f\"User {i}:\")\n",
    "    \n",
    "    # คำนวณคะแนนสุขภาพและความเสี่ยงเบาหวาน\n",
    "    health_score, diabetes_risk, health_status, mood_advice = calculate_health_score(user)\n",
    "    \n",
    "    # คำแนะนำในการดูแลสุขภาพ\n",
    "    exercise, food, article, motivation = health_advice(user)\n",
    "    \n",
    "    # แสดงผลลัพธ์\n",
    "    print(f\"Health Score: {health_score}/10\")\n",
    "    print(f\"Diabetes Risk: {diabetes_risk}\")\n",
    "    print(f\"Health Status: {health_status}\")\n",
    "    print(f\"Mood Advice: {mood_advice}\")\n",
    "    print(f\"Exercise Recommendation: {exercise}\")\n",
    "    print(f\"Food Recommendation: {food}\")\n",
    "    print(f\"Article Recommendation: {article}\")\n",
    "    print(f\"Motivational Advice: {motivation}\")\n",
    "    print(\"\\n\" + \"=\"*40 + \"\\n\")\n"
   ]
  },
  {
   "cell_type": "code",
   "execution_count": null,
   "metadata": {},
   "outputs": [],
   "source": []
  }
 ],
 "metadata": {
  "kernelspec": {
   "display_name": "Python 3",
   "language": "python",
   "name": "python3"
  },
  "language_info": {
   "codemirror_mode": {
    "name": "ipython",
    "version": 3
   },
   "file_extension": ".py",
   "mimetype": "text/x-python",
   "name": "python",
   "nbconvert_exporter": "python",
   "pygments_lexer": "ipython3",
   "version": "3.11.0"
  }
 },
 "nbformat": 4,
 "nbformat_minor": 2
}
