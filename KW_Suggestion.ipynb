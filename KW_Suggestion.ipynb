{
 "cells": [
  {
   "cell_type": "code",
   "execution_count": null,
   "metadata": {},
   "outputs": [],
   "source": [
    "#Step 1: Install Required Libraries\n",
    "#pip install pandas numpy scikit-learn ,pip install xgboost tensorflow keras\n",
    "\n",
    "#Step 2: Import Libraries\n",
    "# Importing libraries\n",
    "import pandas as pd\n",
    "import numpy as np\n",
    "import matplotlib.pyplot as plt\n",
    "import seaborn as sns\n",
    "import tensorflow as tf\n",
    "from sklearn.model_selection import train_test_split\n",
    "from sklearn.metrics import accuracy_score, classification_report\n",
    "from sklearn.metrics import accuracy_score, confusion_matrix, classification_report\n",
    "from sklearn.preprocessing import StandardScaler\n",
    "from sklearn.impute import SimpleImputer\n",
    "from sklearn.model_selection import GridSearchCV\n",
    "\n",
    "#Models \n",
    "from sklearn.ensemble import RandomForestClassifier\n",
    "from xgboost import XGBClassifier\n",
    "from tensorflow.keras.models import Sequential\n",
    "from tensorflow.keras.layers import Input,Dense, Dropout\n",
    "from tensorflow.keras.optimizers import Adam\n"
   ]
  },
  {
   "cell_type": "code",
   "execution_count": 3,
   "metadata": {},
   "outputs": [],
   "source": [
    "#Step 3: Load dataset (หามาโลด ดูตารางค่าที่รับให้ตรง)\n",
    "#age, weight, height, blood_sugar, a1c, systolic_bp, diastolic_bp, mood, gender, and target\n",
    "\n",
    "df = pd.read_csv('health_dataset.csv')  "
   ]
  },
  {
   "cell_type": "code",
   "execution_count": 4,
   "metadata": {},
   "outputs": [
    {
     "name": "stdout",
     "output_type": "stream",
     "text": [
      "   age  weight  height  blood_sugar  a1c  systolic_bp  diastolic_bp gender  \\\n",
      "0   46      71     182          NaN  9.7        133.0           NaN    ชาย   \n",
      "1   44      73     165         94.0  NaN        133.0         109.0    ชาย   \n",
      "2   80      51     184          NaN  6.9          NaN           NaN    ชาย   \n",
      "3   46      78     176          NaN  6.3          NaN           NaN    ชาย   \n",
      "4   27      96     174          NaN  NaN          NaN          83.0   หญิง   \n",
      "\n",
      "       mood  target  \n",
      "0     เศร้า       0  \n",
      "1     เศร้า       0  \n",
      "2      เฉยๆ       1  \n",
      "3   ความสุข       0  \n",
      "4  หงุดหงิด       1  \n"
     ]
    }
   ],
   "source": [
    "#Step 4: Explore the Data (To know structure)\n",
    "# Display the first few rows of the dataset\n",
    "print(df.head())"
   ]
  },
  {
   "cell_type": "code",
   "execution_count": 5,
   "metadata": {},
   "outputs": [
    {
     "name": "stdout",
     "output_type": "stream",
     "text": [
      "                age        weight        height   blood_sugar          a1c  \\\n",
      "count  20000.000000  20000.000000  20000.000000  10168.000000  9906.000000   \n",
      "mean      49.040450     72.495150    170.056250    109.801633     7.024490   \n",
      "std       18.179839     16.170233     11.781669     23.257588     1.739282   \n",
      "min       18.000000     45.000000    150.000000     70.000000     4.000000   \n",
      "25%       33.000000     59.000000    160.000000     90.000000     5.500000   \n",
      "50%       49.000000     72.000000    170.000000    110.000000     7.000000   \n",
      "75%       65.000000     87.000000    180.000000    130.000000     8.500000   \n",
      "max       80.000000    100.000000    190.000000    150.000000    10.000000   \n",
      "\n",
      "       systolic_bp  diastolic_bp      target  \n",
      "count  9985.000000   9912.000000  20000.0000  \n",
      "mean    135.135704     89.923023      0.5035  \n",
      "std      26.386138     17.576149      0.5000  \n",
      "min      90.000000     60.000000      0.0000  \n",
      "25%     112.000000     75.000000      0.0000  \n",
      "50%     135.000000     90.000000      1.0000  \n",
      "75%     158.000000    105.000000      1.0000  \n",
      "max     180.000000    120.000000      1.0000  \n"
     ]
    }
   ],
   "source": [
    "#Step 4: Explore the Data (To know structure)\n",
    "# Get summary statistics\n",
    "print(df.describe())"
   ]
  },
  {
   "cell_type": "code",
   "execution_count": 6,
   "metadata": {},
   "outputs": [
    {
     "name": "stdout",
     "output_type": "stream",
     "text": [
      "age                 0\n",
      "weight              0\n",
      "height              0\n",
      "blood_sugar      9832\n",
      "a1c             10094\n",
      "systolic_bp     10015\n",
      "diastolic_bp    10088\n",
      "gender              0\n",
      "mood                0\n",
      "target              0\n",
      "dtype: int64\n"
     ]
    }
   ],
   "source": [
    "#Step 4: Explore the Data (To know structure)\n",
    "# Check for missing values\n",
    "print(df.isnull().sum())"
   ]
  },
  {
   "cell_type": "code",
   "execution_count": 7,
   "metadata": {},
   "outputs": [],
   "source": [
    "#Step 5: Data Preprocessing\n",
    "#(1)Separate Between Numeric and Categorical Column \n",
    "\n",
    "numeric_cols = ['age', 'weight', 'height', 'blood_sugar', 'a1c', 'systolic_bp', 'diastolic_bp']\n",
    "categorical_cols = ['gender', 'mood']"
   ]
  },
  {
   "cell_type": "code",
   "execution_count": 8,
   "metadata": {},
   "outputs": [],
   "source": [
    "#Step 5: Data Preprocessing\n",
    "#(2)Separate Between Numeric and Categorical Column \n",
    "\n",
    "df['gender'] = df['gender'].map({'ชาย': 0, 'หญิง': 1})\n",
    "df['mood'] = df['mood'].map({\n",
    "    'หัวเราะ': 1, 'ความสุข': 2, 'เฉยๆ': 3, 'หงุดหงิด': 4, 'ป่วย': 5, 'เศร้า': 6, 'โกรธ': 7\n",
    "})"
   ]
  },
  {
   "cell_type": "code",
   "execution_count": 9,
   "metadata": {},
   "outputs": [],
   "source": [
    "#Step 5: Data Preprocessing\n",
    "#Feature Engineering \n",
    "#(3)To Delete NAN from Height And Weight\n",
    "df.dropna(subset=['height', 'weight'], inplace=True)  \n",
    "\n",
    "#(4)To Calculate BMI from Height And Weight\n",
    "df['BMI'] = df['weight'] / (df['height'] / 100) ** 2\n",
    "\n",
    "#(5)กำหนดว่าใดเป็นOptionalบ้าง และถ้าอันไหนไม่มีก็แทนด้วย 0\n",
    "optional_features = ['blood_sugar', 'a1c', 'systolic_bp', 'diastolic_bp' , 'mood']\n",
    "for col in optional_features:\n",
    "    df[f'has_{col}'] = df[col].notna().astype(int)  # 1 = Have Data, 0 = Nan\n",
    "\n",
    "#(6) แทนค่า missing เฉพาะที่จำเป็น\n",
    "df.fillna(0, inplace=True)  # แค่แทนที่ missing ใน optional features ด้วย 0 (ถ้าไม่มีข้อมูล)\n",
    "\n",
    "#(7) กำหนด Features (X) และ Target (y)\n",
    "X = df.drop(columns=['target'])\n",
    "y = df['target']\n"
   ]
  },
  {
   "cell_type": "code",
   "execution_count": 10,
   "metadata": {},
   "outputs": [
    {
     "name": "stdout",
     "output_type": "stream",
     "text": [
      "   age  weight  height  blood_sugar  a1c  systolic_bp  diastolic_bp  gender  \\\n",
      "0   46      71     182          0.0  9.7        133.0           0.0       0   \n",
      "1   44      73     165         94.0  0.0        133.0         109.0       0   \n",
      "2   80      51     184          0.0  6.9          0.0           0.0       0   \n",
      "3   46      78     176          0.0  6.3          0.0           0.0       0   \n",
      "4   27      96     174          0.0  0.0          0.0          83.0       1   \n",
      "\n",
      "   mood  target        BMI  has_blood_sugar  has_a1c  has_systolic_bp  \\\n",
      "0     6       0  21.434609                0        1                1   \n",
      "1     6       0  26.813590                1        0                1   \n",
      "2     3       1  15.063800                0        1                0   \n",
      "3     2       0  25.180785                0        1                0   \n",
      "4     4       1  31.708284                0        0                0   \n",
      "\n",
      "   has_diastolic_bp  has_mood  \n",
      "0                 0         1  \n",
      "1                 1         1  \n",
      "2                 0         1  \n",
      "3                 0         1  \n",
      "4                 1         1  \n"
     ]
    }
   ],
   "source": [
    "#Step 5: Data Preprocessing\n",
    "\n",
    "#(8)To Save on New File After Preprocessing\n",
    "df.to_csv('cleaned_health_dataset.csv', index=False)\n",
    "\n",
    "#(9)Check After Preprocessing \n",
    "print(df.head())"
   ]
  },
  {
   "cell_type": "code",
   "execution_count": 11,
   "metadata": {},
   "outputs": [],
   "source": [
    "#Step 6: Split the Data into Training and Testing Sets\n",
    "# Define features and target\n",
    "X = df.drop(columns=['target'])\n",
    "y = df['target']\n",
    "\n",
    "# Split data into training and testing sets (80-20 split)\n",
    "X_train, X_test, y_train, y_test = train_test_split(X, y, test_size=0.2, random_state=42)\n"
   ]
  },
  {
   "cell_type": "code",
   "execution_count": 12,
   "metadata": {},
   "outputs": [],
   "source": [
    "#Step 7: Scale the Features For Better For better model performance And Scale The Features using StandardScaler\n",
    "# Scale the features ANN and XGBoost\n",
    "scaler = StandardScaler()\n",
    "X_train_scaled = scaler.fit_transform(X_train)\n",
    "X_test_scaled = scaler.transform(X_test)\n"
   ]
  },
  {
   "cell_type": "code",
   "execution_count": 13,
   "metadata": {},
   "outputs": [],
   "source": [
    "#Step 8: Train the Model\n",
    "\n",
    "#(1)Train a RandomForestClassifier model \n",
    "#Hyperparameter Tuning\n",
    "rf_params = {\n",
    "    'n_estimators': [100, 200, 300],\n",
    "    'max_depth': [10, 20, None],\n",
    "    'min_samples_split': [2, 5, 10]\n",
    "}\n",
    "rf_grid = GridSearchCV(RandomForestClassifier(random_state=42), rf_params, cv=3, n_jobs=-1)\n",
    "rf_grid.fit(X_train_scaled, y_train)\n",
    "rf_model = rf_grid.best_estimator_\n",
    "\n",
    "rf_pred = rf_model.predict(X_test_scaled)\n",
    "rf_acc = accuracy_score(y_test, rf_pred)\n",
    "rf_f1 = classification_report(y_test, rf_pred, output_dict=True)['weighted avg']['f1-score']"
   ]
  },
  {
   "cell_type": "code",
   "execution_count": 14,
   "metadata": {},
   "outputs": [],
   "source": [
    "#Step 8: Train the Model\n",
    "\n",
    "#(2)Train a XGBClassifie model\n",
    "#Hyperparameter Tuning\n",
    "xgb_params = {\n",
    "    'n_estimators': [100, 200, 300],\n",
    "    'learning_rate': [0.01, 0.05, 0.1],\n",
    "    'max_depth': [3, 6, 9]\n",
    "}\n",
    "xgb_grid = GridSearchCV(XGBClassifier(eval_metric='logloss', random_state=42), \n",
    "                        xgb_params, cv=3, n_jobs=-1)\n",
    "xgb_grid.fit(X_train_scaled, y_train)\n",
    "xgb_model = xgb_grid.best_estimator_\n",
    "\n",
    "xgb_pred = xgb_model.predict(X_test_scaled)\n",
    "xgb_acc = accuracy_score(y_test, xgb_pred)\n",
    "xgb_f1 = classification_report(y_test, xgb_pred, output_dict=True)['weighted avg']['f1-score']"
   ]
  },
  {
   "cell_type": "code",
   "execution_count": null,
   "metadata": {},
   "outputs": [
    {
     "name": "stdout",
     "output_type": "stream",
     "text": [
      "\u001b[1m125/125\u001b[0m \u001b[32m━━━━━━━━━━━━━━━━━━━━\u001b[0m\u001b[37m\u001b[0m \u001b[1m0s\u001b[0m 1ms/step\n"
     ]
    }
   ],
   "source": [
    "#Step 8: Train the Model\n",
    "\n",
    "#(3)Train a Artificial Neural Networks (ANNs) model\n",
    "#Hyperparameter Tuning\n",
    "\n",
    "ann_model = Sequential([\n",
    "    Dense(64, activation='relu', input_shape=(X_train_scaled.shape[1],)),\n",
    "    Dropout(0.3),\n",
    "    Dense(32, activation='relu'),\n",
    "    Dropout(0.3),\n",
    "    Dense(1, activation='sigmoid')  # Use sigmoid For Avoid (classification) Problems\n",
    "])\n",
    "\n",
    "ann_model.compile(optimizer=Adam(learning_rate=0.001), loss='binary_crossentropy', metrics=['accuracy'])\n",
    "ann_model.fit(X_train_scaled, y_train, epochs=50, batch_size=32, verbose=0)  # เทรน 50 รอบ\n",
    "ann_pred = (ann_model.predict(X_test_scaled) > 0.5).astype(int).flatten()\n",
    "ann_acc = accuracy_score(y_test, ann_pred)\n",
    "ann_f1 = classification_report(y_test, ann_pred, output_dict=True)['weighted avg']['f1-score']"
   ]
  },
  {
   "cell_type": "code",
   "execution_count": 17,
   "metadata": {},
   "outputs": [
    {
     "name": "stdout",
     "output_type": "stream",
     "text": [
      " Random Forest - Accuracy: 50.10%, F1-score: 0.50\n",
      " XGBoost - Accuracy: 50.40%, F1-score: 0.50\n",
      " ANN - Accuracy: 49.00%, F1-score: 0.49\n",
      " The Best Model is: XGBoost | Accuracy: 50.40% | F1-score: 0.50\n"
     ]
    }
   ],
   "source": [
    "#Step 9:  Performance\n",
    "#Show Performance\n",
    "print(f\" Random Forest - Accuracy: {rf_acc*100:.2f}%, F1-score: {rf_f1:.2f}\")\n",
    "print(f\" XGBoost - Accuracy: {xgb_acc*100:.2f}%, F1-score: {xgb_f1:.2f}\")\n",
    "print(f\" ANN - Accuracy: {ann_acc*100:.2f}%, F1-score: {ann_f1:.2f}\")\n",
    "\n",
    "#Show Best Performance Model\n",
    "best_model = max([\n",
    "    (rf_model, rf_acc, rf_f1, \"Random Forest\"),\n",
    "    (xgb_model, xgb_acc, xgb_f1, \"XGBoost\"),\n",
    "    (ann_model, ann_acc, ann_f1, \"ANN\")\n",
    "], key=lambda x: x[2])\n",
    "\n",
    "print(f\" The Best Model is: {best_model[3]} | Accuracy: {best_model[1]*100:.2f}% | F1-score: {best_model[2]:.2f}\")"
   ]
  },
  {
   "cell_type": "code",
   "execution_count": 22,
   "metadata": {},
   "outputs": [
    {
     "name": "stdout",
     "output_type": "stream",
     "text": [
      " User  Health Score Risk Percentage (Diabetes)                                                                                                       Exercise Recommendation                                                                                                                                      Food Recommendation                                                                                             Article Recommendation                                                                                                       Blood Pressure Recommendation\n",
      "    1            40                         2% การออกกำลังกาย: แนะนำให้เดินเร็ว 30 นาทีต่อวัน หรือทำโยคะเพื่อเพิ่มความยืดหยุ่น. ควรทำอย่างสม่ำเสมอเพื่อช่วยลดไขมันในร่างกาย. อาหาร: ควรหลีกเลี่ยงอาหารที่มีน้ำตาลสูงและเพิ่มอาหารที่มีดัชนีน้ำตาลต่ำ เช่น ข้าวกล้อง, ผักสด, ผลไม้ที่มีน้ำตาลต่ำ เช่น แอปเปิ้ล เพื่อควบคุมระดับน้ำตาล. บทความ: แนะนำบทความเกี่ยวกับการจัดการอารมณ์และการลดความเครียด เช่น เทคนิคการหายใจ หรือการทำสมาธิเพื่อลดความเครียด. คำแนะนำเพิ่มเติม: ควรปรึกษาแพทย์เกี่ยวกับการควบคุมความดันโลหิต. การควบคุมความดันโลหิตสามารถช่วยลดความเสี่ยงจากโรคหลอดเลือดและหัวใจ.\n",
      "    2            20                         9%                         การออกกำลังกาย: แนะนำให้ทำการออกกำลังกายที่หนักขึ้น เช่น วิ่ง หรือยกน้ำหนักเพื่อเสริมสร้างกล้ามเนื้อ.                                                               อาหาร: ควรทานอาหารที่มีเส้นใยสูง เช่น ผัก, ถั่ว, ข้าวกล้อง, เพื่อควบคุมระดับน้ำตาลในเลือด.                   บทความ: แนะนำบทความเกี่ยวกับการดูแลสุขภาพและการควบคุมเบาหวาน โดยการควบคุมอาหารและการออกกำลังกาย.                                                                                                                                 N/A\n",
      "    3             0                         9%                         การออกกำลังกาย: แนะนำให้ทำการออกกำลังกายที่หนักขึ้น เช่น วิ่ง หรือยกน้ำหนักเพื่อเสริมสร้างกล้ามเนื้อ.                                                          อาหาร: ควรเลือกทานอาหารที่มีโปรตีนสูง เช่น ปลา, ไก่, หรือเต้าหู้ และควรหลีกเลี่ยงอาหารไขมันสูง.                   บทความ: แนะนำบทความเกี่ยวกับการดูแลสุขภาพและการควบคุมเบาหวาน โดยการควบคุมอาหารและการออกกำลังกาย.                                                                                                                                 N/A\n",
      "    4            40                         2% การออกกำลังกาย: แนะนำให้เดินเร็ว 30 นาทีต่อวัน หรือทำโยคะเพื่อเพิ่มความยืดหยุ่น. ควรทำอย่างสม่ำเสมอเพื่อช่วยลดไขมันในร่างกาย. อาหาร: ควรหลีกเลี่ยงอาหารที่มีน้ำตาลสูงและเพิ่มอาหารที่มีดัชนีน้ำตาลต่ำ เช่น ข้าวกล้อง, ผักสด, ผลไม้ที่มีน้ำตาลต่ำ เช่น แอปเปิ้ล เพื่อควบคุมระดับน้ำตาล.         บทความ: แนะนำบทความเกี่ยวกับการผ่อนคลายและเทคนิคการจัดการอารมณ์ เช่น การทำกิจกรรมที่ช่วยให้รู้สึกผ่อนคลาย. คำแนะนำเพิ่มเติม: ควรปรึกษาแพทย์เกี่ยวกับการควบคุมความดันโลหิต. การควบคุมความดันโลหิตสามารถช่วยลดความเสี่ยงจากโรคหลอดเลือดและหัวใจ.\n",
      "    5            20                         7%                        การออกกำลังกาย: แนะนำให้ทำกิจกรรมที่ไม่หนักเกินไป เช่น ว่ายน้ำ หรือเดินเร็วเพื่อการควบคุมความดันโลหิต.                                                               อาหาร: ควรทานอาหารที่มีเส้นใยสูง เช่น ผัก, ถั่ว, ข้าวกล้อง, เพื่อควบคุมระดับน้ำตาลในเลือด.                   บทความ: แนะนำบทความเกี่ยวกับการดูแลสุขภาพและการควบคุมเบาหวาน โดยการควบคุมอาหารและการออกกำลังกาย. คำแนะนำเพิ่มเติม: ควรปรึกษาแพทย์เกี่ยวกับการควบคุมความดันโลหิต. การควบคุมความดันโลหิตสามารถช่วยลดความเสี่ยงจากโรคหลอดเลือดและหัวใจ.\n",
      "    6            20                         8%                         การออกกำลังกาย: แนะนำให้ทำการออกกำลังกายที่หนักขึ้น เช่น วิ่ง หรือยกน้ำหนักเพื่อเสริมสร้างกล้ามเนื้อ.                                                               อาหาร: ควรทานอาหารที่มีเส้นใยสูง เช่น ผัก, ถั่ว, ข้าวกล้อง, เพื่อควบคุมระดับน้ำตาลในเลือด.                   บทความ: แนะนำบทความเกี่ยวกับการดูแลสุขภาพและการควบคุมเบาหวาน โดยการควบคุมอาหารและการออกกำลังกาย.                                                                                                                                 N/A\n",
      "    7            40                         2% การออกกำลังกาย: แนะนำให้เดินเร็ว 30 นาทีต่อวัน หรือทำโยคะเพื่อเพิ่มความยืดหยุ่น. ควรทำอย่างสม่ำเสมอเพื่อช่วยลดไขมันในร่างกาย. อาหาร: ควรหลีกเลี่ยงอาหารที่มีน้ำตาลสูงและเพิ่มอาหารที่มีดัชนีน้ำตาลต่ำ เช่น ข้าวกล้อง, ผักสด, ผลไม้ที่มีน้ำตาลต่ำ เช่น แอปเปิ้ล เพื่อควบคุมระดับน้ำตาล. บทความ: แนะนำบทความเกี่ยวกับการจัดการอารมณ์และการลดความเครียด เช่น เทคนิคการหายใจ หรือการทำสมาธิเพื่อลดความเครียด. คำแนะนำเพิ่มเติม: ควรปรึกษาแพทย์เกี่ยวกับการควบคุมความดันโลหิต. การควบคุมความดันโลหิตสามารถช่วยลดความเสี่ยงจากโรคหลอดเลือดและหัวใจ.\n",
      "    8            20                        10%                         การออกกำลังกาย: แนะนำให้ทำการออกกำลังกายที่หนักขึ้น เช่น วิ่ง หรือยกน้ำหนักเพื่อเสริมสร้างกล้ามเนื้อ.                                                               อาหาร: ควรทานอาหารที่มีเส้นใยสูง เช่น ผัก, ถั่ว, ข้าวกล้อง, เพื่อควบคุมระดับน้ำตาลในเลือด.                   บทความ: แนะนำบทความเกี่ยวกับการดูแลสุขภาพและการควบคุมเบาหวาน โดยการควบคุมอาหารและการออกกำลังกาย.                                                                                                                                 N/A\n",
      "    9            20                         8%                         การออกกำลังกาย: แนะนำให้ทำการออกกำลังกายที่หนักขึ้น เช่น วิ่ง หรือยกน้ำหนักเพื่อเสริมสร้างกล้ามเนื้อ.                                                               อาหาร: ควรทานอาหารที่มีเส้นใยสูง เช่น ผัก, ถั่ว, ข้าวกล้อง, เพื่อควบคุมระดับน้ำตาลในเลือด.         บทความ: แนะนำบทความเกี่ยวกับการผ่อนคลายและเทคนิคการจัดการอารมณ์ เช่น การทำกิจกรรมที่ช่วยให้รู้สึกผ่อนคลาย.                                                                                                                                 N/A\n",
      "   10            40                         2% การออกกำลังกาย: แนะนำให้เดินเร็ว 30 นาทีต่อวัน หรือทำโยคะเพื่อเพิ่มความยืดหยุ่น. ควรทำอย่างสม่ำเสมอเพื่อช่วยลดไขมันในร่างกาย. อาหาร: ควรหลีกเลี่ยงอาหารที่มีน้ำตาลสูงและเพิ่มอาหารที่มีดัชนีน้ำตาลต่ำ เช่น ข้าวกล้อง, ผักสด, ผลไม้ที่มีน้ำตาลต่ำ เช่น แอปเปิ้ล เพื่อควบคุมระดับน้ำตาล. บทความ: แนะนำบทความเกี่ยวกับการจัดการอารมณ์และการลดความเครียด เช่น เทคนิคการหายใจ หรือการทำสมาธิเพื่อลดความเครียด. คำแนะนำเพิ่มเติม: ควรปรึกษาแพทย์เกี่ยวกับการควบคุมความดันโลหิต. การควบคุมความดันโลหิตสามารถช่วยลดความเสี่ยงจากโรคหลอดเลือดและหัวใจ.\n"
     ]
    }
   ],
   "source": [
    "#Step 10: Make Predictions and Provide Recommendations\n",
    "\n",
    "# Prediction\n",
    "def predict_health(input_data):\n",
    "    health_score = 10  # Start From. . . 10\n",
    "    risk_percentage = 0  # Risk Percentage\n",
    "    # BMI\n",
    "    if input_data['BMI'] > 30:\n",
    "        health_score -= 2  # minus 2\n",
    "    elif input_data['BMI'] > 25:\n",
    "        health_score -= 1  # plus 1\n",
    "\n",
    "    # Systolic BP\n",
    "    if input_data['systolic_bp'] > 140:\n",
    "        health_score -= 2  # minus 2\n",
    "    elif input_data['systolic_bp'] > 130:\n",
    "        health_score -= 1  # plus 1\n",
    "\n",
    "    # Blood sugar\n",
    "    if input_data['blood_sugar'] > 180:\n",
    "        health_score -= 3  # minus 3\n",
    "        risk_percentage += 40  # More Risk 40%\n",
    "    elif input_data['blood_sugar'] > 120:\n",
    "        risk_percentage += 20  # More Risk 20%\n",
    "\n",
    "    # Mood \n",
    "    if input_data['mood'] == 'เศร้า':\n",
    "        health_score -= 1  # minus 1\n",
    "    elif input_data['mood'] == 'หงุดหงิด':\n",
    "        health_score -= 1  # minus1\n",
    "\n",
    "\n",
    "\n",
    "    return health_score, risk_percentage \n",
    "\n",
    "# Recommendation\n",
    "def health_recommendations(input_data):\n",
    "    recommendations = {}\n",
    "\n",
    "    # Exercise Recommendation\n",
    "    if input_data['BMI'] > 30:\n",
    "        exercise_recommendation = \"การออกกำลังกาย: แนะนำให้เดินเร็ว 30 นาทีต่อวัน หรือทำโยคะเพื่อเพิ่มความยืดหยุ่น. ควรทำอย่างสม่ำเสมอเพื่อช่วยลดไขมันในร่างกาย.\"\n",
    "    elif input_data['systolic_bp'] > 140:\n",
    "        exercise_recommendation = \"การออกกำลังกาย: แนะนำให้ทำกิจกรรมที่ไม่หนักเกินไป เช่น ว่ายน้ำ หรือเดินเร็วเพื่อการควบคุมความดันโลหิต.\"\n",
    "    else:\n",
    "        exercise_recommendation = \"การออกกำลังกาย: แนะนำให้ทำการออกกำลังกายที่หนักขึ้น เช่น วิ่ง หรือยกน้ำหนักเพื่อเสริมสร้างกล้ามเนื้อ.\"\n",
    "\n",
    "    recommendations['exercise'] = exercise_recommendation\n",
    "\n",
    "    # Food Recommendation\n",
    "    if input_data['blood_sugar'] > 180:\n",
    "        food_recommendation = \"อาหาร: ควรหลีกเลี่ยงอาหารที่มีน้ำตาลสูงและเพิ่มอาหารที่มีดัชนีน้ำตาลต่ำ เช่น ข้าวกล้อง, ผักสด, ผลไม้ที่มีน้ำตาลต่ำ เช่น แอปเปิ้ล เพื่อควบคุมระดับน้ำตาล.\"\n",
    "    elif input_data['blood_sugar'] > 120:\n",
    "        food_recommendation = \"อาหาร: ควรทานอาหารที่มีเส้นใยสูง เช่น ผัก, ถั่ว, ข้าวกล้อง, เพื่อควบคุมระดับน้ำตาลในเลือด.\"\n",
    "    else:\n",
    "        food_recommendation = \"อาหาร: ควรเลือกทานอาหารที่มีโปรตีนสูง เช่น ปลา, ไก่, หรือเต้าหู้ และควรหลีกเลี่ยงอาหารไขมันสูง.\"\n",
    "\n",
    "    recommendations['food'] = food_recommendation\n",
    "\n",
    "    # Article Recommendation\n",
    "    if input_data['mood'] == 'เศร้า':\n",
    "        article_recommendation = \"บทความ: แนะนำบทความเกี่ยวกับการจัดการอารมณ์และการลดความเครียด เช่น เทคนิคการหายใจ หรือการทำสมาธิเพื่อลดความเครียด.\"\n",
    "    elif input_data['mood'] == 'หงุดหงิด':\n",
    "        article_recommendation = \"บทความ: แนะนำบทความเกี่ยวกับการผ่อนคลายและเทคนิคการจัดการอารมณ์ เช่น การทำกิจกรรมที่ช่วยให้รู้สึกผ่อนคลาย.\"\n",
    "    else:\n",
    "        article_recommendation = \"บทความ: แนะนำบทความเกี่ยวกับการดูแลสุขภาพและการควบคุมเบาหวาน โดยการควบคุมอาหารและการออกกำลังกาย.\"\n",
    "\n",
    "    recommendations['article'] = article_recommendation\n",
    "\n",
    "    # คำแนะนำเพิ่มเติมหากมีความดันโลหิตสูง\n",
    "    if input_data['systolic_bp'] > 140:\n",
    "        blood_pressure_recommendation = \"คำแนะนำเพิ่มเติม: ควรปรึกษาแพทย์เกี่ยวกับการควบคุมความดันโลหิต. การควบคุมความดันโลหิตสามารถช่วยลดความเสี่ยงจากโรคหลอดเลือดและหัวใจ.\"\n",
    "        recommendations['blood_pressure'] = blood_pressure_recommendation\n",
    "    \n",
    "    return recommendations\n",
    "\n",
    "# Sample Input Data\n",
    "user_data = [\n",
    "    {'BMI': 32, 'blood_sugar': 190, 'systolic_bp': 150, 'mood': 'เศร้า'},\n",
    "    {'BMI': 28, 'blood_sugar': 140, 'systolic_bp': 130, 'mood': 'เฉยๆ'},\n",
    "    {'BMI': 26, 'blood_sugar': 110, 'systolic_bp': 125, 'mood': 'ความสุข'},\n",
    "    {'BMI': 35, 'blood_sugar': 200, 'systolic_bp': 160, 'mood': 'หงุดหงิด'},\n",
    "    {'BMI': 30, 'blood_sugar': 180, 'systolic_bp': 145, 'mood': 'โกรธ'},\n",
    "    {'BMI': 27, 'blood_sugar': 170, 'systolic_bp': 135, 'mood': 'ดี'},\n",
    "    {'BMI': 40, 'blood_sugar': 220, 'systolic_bp': 170, 'mood': 'เศร้า'},\n",
    "    {'BMI': 24, 'blood_sugar': 130, 'systolic_bp': 120, 'mood': 'เฉยๆ'},\n",
    "    {'BMI': 29, 'blood_sugar': 155, 'systolic_bp': 125, 'mood': 'หงุดหงิด'},\n",
    "    {'BMI': 33, 'blood_sugar': 195, 'systolic_bp': 155, 'mood': 'เศร้า'}\n",
    "]\n",
    "\n",
    "# สร้างตารางผลการทำนาย\n",
    "results = []\n",
    "\n",
    "# ทำนายผลและให้คำแนะนำ\n",
    "for i, input_data in enumerate(user_data, 1):\n",
    "    risk_percentage, health_score = predict_health(input_data)\n",
    "    recommendations = health_recommendations(input_data)\n",
    "    \n",
    "    results.append({\n",
    "        'User': i,\n",
    "        'Health Score': health_score,\n",
    "        'Risk Percentage (Diabetes)': f\"{risk_percentage}%\",\n",
    "        'Exercise Recommendation': recommendations['exercise'],\n",
    "        'Food Recommendation': recommendations['food'],\n",
    "        'Article Recommendation': recommendations['article'],\n",
    "        'Blood Pressure Recommendation': recommendations.get('blood_pressure', 'N/A')\n",
    "    })\n",
    "\n",
    "# สร้าง DataFrame\n",
    "df_results = pd.DataFrame(results)\n",
    "\n",
    "# แสดงผลในรูปแบบตาราง\n",
    "print(df_results.to_string(index=False))\n"
   ]
  },
  {
   "cell_type": "code",
   "execution_count": null,
   "metadata": {},
   "outputs": [],
   "source": [
    "#Step 11 Save the Model\n",
    "import joblib\n",
    "\n",
    "# Save the model\n",
    "joblib.dump(best_model, 'health_model.pkl')\n",
    "\n",
    "# Load the model (for future use)\n",
    "loaded_model = joblib.load('health_model.pkl')\n"
   ]
  }
 ],
 "metadata": {
  "kernelspec": {
   "display_name": "Python 3",
   "language": "python",
   "name": "python3"
  },
  "language_info": {
   "codemirror_mode": {
    "name": "ipython",
    "version": 3
   },
   "file_extension": ".py",
   "mimetype": "text/x-python",
   "name": "python",
   "nbconvert_exporter": "python",
   "pygments_lexer": "ipython3",
   "version": "3.11.0"
  }
 },
 "nbformat": 4,
 "nbformat_minor": 2
}
